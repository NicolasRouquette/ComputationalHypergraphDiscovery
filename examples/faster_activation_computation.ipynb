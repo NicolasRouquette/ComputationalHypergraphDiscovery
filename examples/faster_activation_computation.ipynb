{
 "cells": [
  {
   "cell_type": "code",
   "execution_count": 17,
   "metadata": {},
   "outputs": [],
   "source": [
    "import numpy as np\n",
    "import time\n",
    "from tqdm import tqdm"
   ]
  },
  {
   "cell_type": "code",
   "execution_count": 13,
   "metadata": {},
   "outputs": [],
   "source": [
    "n=5000\n",
    "p=500\n",
    "X=np.random.rand(n,p)\n",
    "y=np.random.rand(n)"
   ]
  },
  {
   "cell_type": "markdown",
   "metadata": {},
   "source": [
    "# Original method"
   ]
  },
  {
   "cell_type": "code",
   "execution_count": 18,
   "metadata": {},
   "outputs": [
    {
     "name": "stderr",
     "output_type": "stream",
     "text": [
      "100%|██████████| 500/500 [02:32<00:00,  3.27it/s]"
     ]
    },
    {
     "name": "stdout",
     "output_type": "stream",
     "text": [
      "152.89659094810486\n"
     ]
    },
    {
     "name": "stderr",
     "output_type": "stream",
     "text": [
      "\n"
     ]
    }
   ],
   "source": [
    "def k_o(X,Y,index_o):\n",
    "    inner_o=np.dot(X*index_o[None,:],Y.T)\n",
    "    rest=1-index_o\n",
    "    inner_rest=np.dot(X*rest[None,:],Y.T)\n",
    "    return (1+inner_o)**2-1+2*inner_rest*inner_o\n",
    "\n",
    "\n",
    "\n",
    "\n",
    "start=time.time()\n",
    "activations=[]\n",
    "for index_o in tqdm(np.eye(p)):\n",
    "    activation=np.einsum('ij,i,j->',k_o(X,X,index_o),y,y)\n",
    "    activations.append(activation)\n",
    "print(time.time()-start)"
   ]
  },
  {
   "cell_type": "markdown",
   "metadata": {},
   "source": [
    "# Speedup"
   ]
  },
  {
   "cell_type": "code",
   "execution_count": 20,
   "metadata": {},
   "outputs": [
    {
     "name": "stderr",
     "output_type": "stream",
     "text": [
      "100%|██████████| 500/500 [00:17<00:00, 29.35it/s]"
     ]
    },
    {
     "name": "stdout",
     "output_type": "stream",
     "text": [
      "17.14207887649536\n"
     ]
    },
    {
     "name": "stderr",
     "output_type": "stream",
     "text": [
      "\n"
     ]
    }
   ],
   "source": [
    "def activation(K,y,xo):\n",
    "    vo=y*xo\n",
    "    wo=y*xo**2\n",
    "    return np.einsum('ij,i,j->',K,vo,vo)-np.sum(wo)**2\n",
    "\n",
    "start=time.time()\n",
    "K=2*(1+np.dot(X,X.T))\n",
    "activations_2=[]\n",
    "for index_o in tqdm(np.eye(p)):\n",
    "    xo=np.sum(X*index_o[None,:],axis=1)\n",
    "    activation_=activation(K,y,xo)\n",
    "    activations_2.append(activation_)\n",
    "print(time.time()-start)"
   ]
  },
  {
   "cell_type": "code",
   "execution_count": 21,
   "metadata": {},
   "outputs": [
    {
     "data": {
      "text/plain": [
       "True"
      ]
     },
     "execution_count": 21,
     "metadata": {},
     "output_type": "execute_result"
    }
   ],
   "source": [
    "np.allclose(activations,activations_2)"
   ]
  },
  {
   "cell_type": "markdown",
   "metadata": {},
   "source": [
    "Note that this speedup becomes even larger when implemented in JAX (thanks to JIT compilation and GPU parralelization), because the first method cannot be computed on GPU due to the intense memory requirement. "
   ]
  }
 ],
 "metadata": {
  "kernelspec": {
   "display_name": "torch",
   "language": "python",
   "name": "python3"
  },
  "language_info": {
   "codemirror_mode": {
    "name": "ipython",
    "version": 3
   },
   "file_extension": ".py",
   "mimetype": "text/x-python",
   "name": "python",
   "nbconvert_exporter": "python",
   "pygments_lexer": "ipython3",
   "version": "3.11.9"
  }
 },
 "nbformat": 4,
 "nbformat_minor": 2
}
